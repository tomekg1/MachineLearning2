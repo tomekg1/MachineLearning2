{
 "cells": [
  {
   "cell_type": "code",
   "execution_count": 75,
   "metadata": {},
   "outputs": [],
   "source": [
    "import tensorflow as tf\n",
    "import numpy as np\n",
    "from keras import models, layers\n",
    "from tensorflow.keras.datasets import imdb\n",
    "from sklearn.model_selection import train_test_split\n",
    "import matplotlib.pyplot as plt\n",
    "from sklearn.model_selection import GridSearchCV\n",
    "from keras.wrappers.scikit_learn import KerasClassifier"
   ]
  },
  {
   "cell_type": "code",
   "execution_count": 76,
   "metadata": {},
   "outputs": [],
   "source": [
    "(train_data, train_labels), (test_data, test_labels) = imdb.load_data(num_words=10000)"
   ]
  },
  {
   "cell_type": "code",
   "execution_count": 77,
   "metadata": {},
   "outputs": [],
   "source": [
    "def vectorize_sequences(sequences, dimension=10000):\n",
    "    results = np.zeros((len(sequences), dimension))  # Create an all-zero matrix of shape (len(sequences), dimension)\n",
    "    for i, sequence in enumerate(sequences):\n",
    "        results[i, sequence] = 1.  # set specific indices of results[i] to 1s\n",
    "    return results\n",
    " \n",
    "x_train = vectorize_sequences(train_data)\n",
    "x_test = vectorize_sequences(test_data)\n",
    "y_train = np.asarray(train_labels).astype('float32')\n",
    "y_test = np.asarray(test_labels).astype('float32')"
   ]
  },
  {
   "cell_type": "code",
   "execution_count": 78,
   "metadata": {},
   "outputs": [
    {
     "name": "stdout",
     "output_type": "stream",
     "text": [
      "x_train shape: (25000, 10000) y_train shape: (25000,) x_test shape: (25000, 10000) y_test shape: (25000,)\n"
     ]
    }
   ],
   "source": [
    "print(f\"x_train shape: {x_train.shape} y_train shape: {y_train.shape} x_test shape: {x_test.shape} y_test shape: {y_test.shape}\")"
   ]
  },
  {
   "cell_type": "code",
   "execution_count": 79,
   "metadata": {},
   "outputs": [],
   "source": [
    "network = models.Sequential()\n",
    "network.add(layers.Dense(16, activation='relu', input_shape=(10000,)))\n",
    "network.add(layers.Dense(16, activation='relu'))\n",
    "network.add(layers.Dense(1, activation='sigmoid'))"
   ]
  },
  {
   "cell_type": "code",
   "execution_count": 80,
   "metadata": {},
   "outputs": [],
   "source": [
    "network.compile(optimizer='rmsprop',\n",
    "                loss='binary_crossentropy',\n",
    "                metrics=['accuracy'])"
   ]
  },
  {
   "cell_type": "code",
   "execution_count": 81,
   "metadata": {},
   "outputs": [],
   "source": [
    "x_validation, x_test, y_validation, y_test = train_test_split(x_test, y_test, test_size=15000, random_state=42)"
   ]
  },
  {
   "cell_type": "code",
   "execution_count": 82,
   "metadata": {},
   "outputs": [
    {
     "name": "stdout",
     "output_type": "stream",
     "text": [
      "x_validation shape: (10000, 10000) y_validation shape: (10000,) x_test shape: (15000, 10000) y_test shape: (15000,)\n"
     ]
    }
   ],
   "source": [
    "print(f\"x_validation shape: {x_validation.shape} y_validation shape: {y_validation.shape} x_test shape: {x_test.shape} y_test shape: {y_test.shape}\")"
   ]
  },
  {
   "cell_type": "code",
   "execution_count": 83,
   "metadata": {},
   "outputs": [
    {
     "name": "stdout",
     "output_type": "stream",
     "text": [
      "Epoch 1/20\n",
      "49/49 [==============================] - 1s 17ms/step - loss: 0.4763 - accuracy: 0.8080 - val_loss: 0.3669 - val_accuracy: 0.8598\n",
      "Epoch 2/20\n",
      "49/49 [==============================] - 1s 13ms/step - loss: 0.2792 - accuracy: 0.9030 - val_loss: 0.3066 - val_accuracy: 0.8785\n",
      "Epoch 3/20\n",
      "49/49 [==============================] - 1s 12ms/step - loss: 0.2180 - accuracy: 0.9223 - val_loss: 0.2882 - val_accuracy: 0.8871\n",
      "Epoch 4/20\n",
      "49/49 [==============================] - 1s 13ms/step - loss: 0.1876 - accuracy: 0.9329 - val_loss: 0.2942 - val_accuracy: 0.8835\n",
      "Epoch 5/20\n",
      "49/49 [==============================] - 1s 12ms/step - loss: 0.1631 - accuracy: 0.9418 - val_loss: 0.3077 - val_accuracy: 0.8823\n",
      "Epoch 6/20\n",
      "49/49 [==============================] - 1s 12ms/step - loss: 0.1438 - accuracy: 0.9495 - val_loss: 0.3315 - val_accuracy: 0.8753\n",
      "Epoch 7/20\n",
      "49/49 [==============================] - 1s 15ms/step - loss: 0.1336 - accuracy: 0.9532 - val_loss: 0.3438 - val_accuracy: 0.8740\n",
      "Epoch 8/20\n",
      "49/49 [==============================] - 1s 15ms/step - loss: 0.1205 - accuracy: 0.9595 - val_loss: 0.3646 - val_accuracy: 0.8717\n",
      "Epoch 9/20\n",
      "49/49 [==============================] - 1s 16ms/step - loss: 0.1088 - accuracy: 0.9630 - val_loss: 0.4105 - val_accuracy: 0.8651\n",
      "Epoch 10/20\n",
      "49/49 [==============================] - 1s 15ms/step - loss: 0.0989 - accuracy: 0.9675 - val_loss: 0.4342 - val_accuracy: 0.8609\n",
      "Epoch 11/20\n",
      "49/49 [==============================] - 1s 15ms/step - loss: 0.0931 - accuracy: 0.9690 - val_loss: 0.4283 - val_accuracy: 0.8675\n",
      "Epoch 12/20\n",
      "49/49 [==============================] - 1s 14ms/step - loss: 0.0831 - accuracy: 0.9730 - val_loss: 0.4581 - val_accuracy: 0.8638\n",
      "Epoch 13/20\n",
      "49/49 [==============================] - 1s 13ms/step - loss: 0.0762 - accuracy: 0.9758 - val_loss: 0.5328 - val_accuracy: 0.8501\n",
      "Epoch 14/20\n",
      "49/49 [==============================] - 1s 16ms/step - loss: 0.0689 - accuracy: 0.9782 - val_loss: 0.4963 - val_accuracy: 0.8616\n",
      "Epoch 15/20\n",
      "49/49 [==============================] - 1s 14ms/step - loss: 0.0640 - accuracy: 0.9801 - val_loss: 0.5244 - val_accuracy: 0.8611\n",
      "Epoch 16/20\n",
      "49/49 [==============================] - 1s 13ms/step - loss: 0.0572 - accuracy: 0.9825 - val_loss: 0.5674 - val_accuracy: 0.8551\n",
      "Epoch 17/20\n",
      "49/49 [==============================] - 1s 15ms/step - loss: 0.0512 - accuracy: 0.9856 - val_loss: 0.5738 - val_accuracy: 0.8582\n",
      "Epoch 18/20\n",
      "49/49 [==============================] - 1s 16ms/step - loss: 0.0440 - accuracy: 0.9879 - val_loss: 0.6506 - val_accuracy: 0.8524\n",
      "Epoch 19/20\n",
      "49/49 [==============================] - 1s 17ms/step - loss: 0.0415 - accuracy: 0.9884 - val_loss: 0.6277 - val_accuracy: 0.8554\n",
      "Epoch 20/20\n",
      "49/49 [==============================] - 1s 15ms/step - loss: 0.0375 - accuracy: 0.9895 - val_loss: 0.6936 - val_accuracy: 0.8510\n"
     ]
    }
   ],
   "source": [
    "history = network.fit(x_train, y_train, epochs=20, batch_size=512, validation_data=(x_validation, y_validation))"
   ]
  },
  {
   "cell_type": "code",
   "execution_count": 84,
   "metadata": {},
   "outputs": [
    {
     "data": {
      "text/plain": [
       "dict_keys(['loss', 'accuracy', 'val_loss', 'val_accuracy'])"
      ]
     },
     "execution_count": 84,
     "metadata": {},
     "output_type": "execute_result"
    }
   ],
   "source": [
    "history_dict = history.history\n",
    "history_dict.keys()"
   ]
  },
  {
   "cell_type": "code",
   "execution_count": 85,
   "metadata": {},
   "outputs": [
    {
     "data": {
      "image/png": "[encoded data removed]",
      "text/plain": [
       "<Figure size 1152x432 with 2 Axes>"
      ]
     },
     "metadata": {
      "needs_background": "light"
     },
     "output_type": "display_data"
    }
   ],
   "source": [
    "epochs = range(1, len(history_dict['accuracy']) + 1)\n",
    "plt.figure(figsize=(16, 6))\n",
    "plt.subplot(1, 2, 1)\n",
    "plt.plot(epochs, history_dict['accuracy'], label=\"Training accuracy\")\n",
    "plt.plot(epochs, history_dict['val_accuracy'], 'bo', label=\"Validation accuracy\")\n",
    "plt.title(\"Accuracy\")\n",
    "plt.xlabel('Epochs')\n",
    "plt.ylabel('Accuracy')\n",
    "plt.legend()\n",
    "\n",
    "\n",
    "plt.subplot(1, 2, 2)\n",
    "plt.plot(epochs, history_dict['loss'], label=\"Training loss\")\n",
    "plt.plot(epochs, history_dict['val_loss'], 'bo', label=\"Validation loss\")\n",
    "plt.title(\"Loss\")\n",
    "plt.xlabel('Epochs')\n",
    "plt.ylabel('Loss')\n",
    "plt.legend()\n",
    "\n",
    "\n",
    "plt.show()"
   ]
  },
  {
   "cell_type": "code",
   "execution_count": 86,
   "metadata": {},
   "outputs": [
    {
     "name": "stdout",
     "output_type": "stream",
     "text": [
      " 32/469 [=>............................] - ETA: 0s - loss: 0.6096 - accuracy: 0.8662"
     ]
    },
    {
     "ename": "KeyboardInterrupt",
     "evalue": "",
     "output_type": "error",
     "traceback": [
      "\u001b[1;31m---------------------------------------------------------------------------\u001b[0m",
      "\u001b[1;31mKeyboardInterrupt\u001b[0m                         Traceback (most recent call last)",
      "\u001b[1;32m~\\AppData\\Local\\Temp/ipykernel_13744/3983372309.py\u001b[0m in \u001b[0;36m<module>\u001b[1;34m\u001b[0m\n\u001b[1;32m----> 1\u001b[1;33m \u001b[0mtest_loss\u001b[0m\u001b[1;33m,\u001b[0m \u001b[0mtest_accuracy\u001b[0m \u001b[1;33m=\u001b[0m \u001b[0mnetwork\u001b[0m\u001b[1;33m.\u001b[0m\u001b[0mevaluate\u001b[0m\u001b[1;33m(\u001b[0m\u001b[0mx_test\u001b[0m\u001b[1;33m,\u001b[0m \u001b[0my_test\u001b[0m\u001b[1;33m)\u001b[0m\u001b[1;33m\u001b[0m\u001b[1;33m\u001b[0m\u001b[0m\n\u001b[0m\u001b[0;32m      2\u001b[0m \u001b[0mprint\u001b[0m\u001b[1;33m(\u001b[0m\u001b[1;34m'test_loss:'\u001b[0m\u001b[1;33m,\u001b[0m \u001b[0mtest_loss\u001b[0m\u001b[1;33m)\u001b[0m\u001b[1;33m\u001b[0m\u001b[1;33m\u001b[0m\u001b[0m\n\u001b[0;32m      3\u001b[0m \u001b[0mprint\u001b[0m\u001b[1;33m(\u001b[0m\u001b[1;34m'test_acc:'\u001b[0m\u001b[1;33m,\u001b[0m \u001b[0mtest_accuracy\u001b[0m\u001b[1;33m)\u001b[0m\u001b[1;33m\u001b[0m\u001b[1;33m\u001b[0m\u001b[0m\n",
      "\u001b[1;32mc:\\Users\\tomek\\AppData\\Local\\Programs\\Python\\Python39\\lib\\site-packages\\keras\\utils\\traceback_utils.py\u001b[0m in \u001b[0;36merror_handler\u001b[1;34m(*args, **kwargs)\u001b[0m\n\u001b[0;32m     63\u001b[0m         \u001b[0mfiltered_tb\u001b[0m \u001b[1;33m=\u001b[0m \u001b[1;32mNone\u001b[0m\u001b[1;33m\u001b[0m\u001b[1;33m\u001b[0m\u001b[0m\n\u001b[0;32m     64\u001b[0m         \u001b[1;32mtry\u001b[0m\u001b[1;33m:\u001b[0m\u001b[1;33m\u001b[0m\u001b[1;33m\u001b[0m\u001b[0m\n\u001b[1;32m---> 65\u001b[1;33m             \u001b[1;32mreturn\u001b[0m \u001b[0mfn\u001b[0m\u001b[1;33m(\u001b[0m\u001b[1;33m*\u001b[0m\u001b[0margs\u001b[0m\u001b[1;33m,\u001b[0m \u001b[1;33m**\u001b[0m\u001b[0mkwargs\u001b[0m\u001b[1;33m)\u001b[0m\u001b[1;33m\u001b[0m\u001b[1;33m\u001b[0m\u001b[0m\n\u001b[0m\u001b[0;32m     66\u001b[0m         \u001b[1;32mexcept\u001b[0m \u001b[0mException\u001b[0m \u001b[1;32mas\u001b[0m \u001b[0me\u001b[0m\u001b[1;33m:\u001b[0m\u001b[1;33m\u001b[0m\u001b[1;33m\u001b[0m\u001b[0m\n\u001b[0;32m     67\u001b[0m             \u001b[0mfiltered_tb\u001b[0m \u001b[1;33m=\u001b[0m \u001b[0m_process_traceback_frames\u001b[0m\u001b[1;33m(\u001b[0m\u001b[0me\u001b[0m\u001b[1;33m.\u001b[0m\u001b[0m__traceback__\u001b[0m\u001b[1;33m)\u001b[0m\u001b[1;33m\u001b[0m\u001b[1;33m\u001b[0m\u001b[0m\n",
      "\u001b[1;32mc:\\Users\\tomek\\AppData\\Local\\Programs\\Python\\Python39\\lib\\site-packages\\keras\\engine\\training.py\u001b[0m in \u001b[0;36mevaluate\u001b[1;34m(self, x, y, batch_size, verbose, sample_weight, steps, callbacks, max_queue_size, workers, use_multiprocessing, return_dict, **kwargs)\u001b[0m\n\u001b[0;32m   2070\u001b[0m                         ):\n\u001b[0;32m   2071\u001b[0m                             \u001b[0mcallbacks\u001b[0m\u001b[1;33m.\u001b[0m\u001b[0mon_test_batch_begin\u001b[0m\u001b[1;33m(\u001b[0m\u001b[0mstep\u001b[0m\u001b[1;33m)\u001b[0m\u001b[1;33m\u001b[0m\u001b[1;33m\u001b[0m\u001b[0m\n\u001b[1;32m-> 2072\u001b[1;33m                             \u001b[0mtmp_logs\u001b[0m \u001b[1;33m=\u001b[0m \u001b[0mself\u001b[0m\u001b[1;33m.\u001b[0m\u001b[0mtest_function\u001b[0m\u001b[1;33m(\u001b[0m\u001b[0miterator\u001b[0m\u001b[1;33m)\u001b[0m\u001b[1;33m\u001b[0m\u001b[1;33m\u001b[0m\u001b[0m\n\u001b[0m\u001b[0;32m   2073\u001b[0m                             \u001b[1;32mif\u001b[0m \u001b[0mdata_handler\u001b[0m\u001b[1;33m.\u001b[0m\u001b[0mshould_sync\u001b[0m\u001b[1;33m:\u001b[0m\u001b[1;33m\u001b[0m\u001b[1;33m\u001b[0m\u001b[0m\n\u001b[0;32m   2074\u001b[0m                                 \u001b[0mcontext\u001b[0m\u001b[1;33m.\u001b[0m\u001b[0masync_wait\u001b[0m\u001b[1;33m(\u001b[0m\u001b[1;33m)\u001b[0m\u001b[1;33m\u001b[0m\u001b[1;33m\u001b[0m\u001b[0m\n",
      "\u001b[1;32mc:\\Users\\tomek\\AppData\\Local\\Programs\\Python\\Python39\\lib\\site-packages\\tensorflow\\python\\util\\traceback_utils.py\u001b[0m in \u001b[0;36merror_handler\u001b[1;34m(*args, **kwargs)\u001b[0m\n\u001b[0;32m    148\u001b[0m     \u001b[0mfiltered_tb\u001b[0m \u001b[1;33m=\u001b[0m \u001b[1;32mNone\u001b[0m\u001b[1;33m\u001b[0m\u001b[1;33m\u001b[0m\u001b[0m\n\u001b[0;32m    149\u001b[0m     \u001b[1;32mtry\u001b[0m\u001b[1;33m:\u001b[0m\u001b[1;33m\u001b[0m\u001b[1;33m\u001b[0m\u001b[0m\n\u001b[1;32m--> 150\u001b[1;33m       \u001b[1;32mreturn\u001b[0m \u001b[0mfn\u001b[0m\u001b[1;33m(\u001b[0m\u001b[1;33m*\u001b[0m\u001b[0margs\u001b[0m\u001b[1;33m,\u001b[0m \u001b[1;33m**\u001b[0m\u001b[0mkwargs\u001b[0m\u001b[1;33m)\u001b[0m\u001b[1;33m\u001b[0m\u001b[1;33m\u001b[0m\u001b[0m\n\u001b[0m\u001b[0;32m    151\u001b[0m     \u001b[1;32mexcept\u001b[0m \u001b[0mException\u001b[0m \u001b[1;32mas\u001b[0m \u001b[0me\u001b[0m\u001b[1;33m:\u001b[0m\u001b[1;33m\u001b[0m\u001b[1;33m\u001b[0m\u001b[0m\n\u001b[0;32m    152\u001b[0m       \u001b[0mfiltered_tb\u001b[0m \u001b[1;33m=\u001b[0m \u001b[0m_process_traceback_frames\u001b[0m\u001b[1;33m(\u001b[0m\u001b[0me\u001b[0m\u001b[1;33m.\u001b[0m\u001b[0m__traceback__\u001b[0m\u001b[1;33m)\u001b[0m\u001b[1;33m\u001b[0m\u001b[1;33m\u001b[0m\u001b[0m\n",
      "\u001b[1;32mc:\\Users\\tomek\\AppData\\Local\\Programs\\Python\\Python39\\lib\\site-packages\\tensorflow\\python\\eager\\polymorphic_function\\polymorphic_function.py\u001b[0m in \u001b[0;36m__call__\u001b[1;34m(self, *args, **kwds)\u001b[0m\n\u001b[0;32m    892\u001b[0m \u001b[1;33m\u001b[0m\u001b[0m\n\u001b[0;32m    893\u001b[0m       \u001b[1;32mwith\u001b[0m \u001b[0mOptionalXlaContext\u001b[0m\u001b[1;33m(\u001b[0m\u001b[0mself\u001b[0m\u001b[1;33m.\u001b[0m\u001b[0m_jit_compile\u001b[0m\u001b[1;33m)\u001b[0m\u001b[1;33m:\u001b[0m\u001b[1;33m\u001b[0m\u001b[1;33m\u001b[0m\u001b[0m\n\u001b[1;32m--> 894\u001b[1;33m         \u001b[0mresult\u001b[0m \u001b[1;33m=\u001b[0m \u001b[0mself\u001b[0m\u001b[1;33m.\u001b[0m\u001b[0m_call\u001b[0m\u001b[1;33m(\u001b[0m\u001b[1;33m*\u001b[0m\u001b[0margs\u001b[0m\u001b[1;33m,\u001b[0m \u001b[1;33m**\u001b[0m\u001b[0mkwds\u001b[0m\u001b[1;33m)\u001b[0m\u001b[1;33m\u001b[0m\u001b[1;33m\u001b[0m\u001b[0m\n\u001b[0m\u001b[0;32m    895\u001b[0m \u001b[1;33m\u001b[0m\u001b[0m\n\u001b[0;32m    896\u001b[0m       \u001b[0mnew_tracing_count\u001b[0m \u001b[1;33m=\u001b[0m \u001b[0mself\u001b[0m\u001b[1;33m.\u001b[0m\u001b[0mexperimental_get_tracing_count\u001b[0m\u001b[1;33m(\u001b[0m\u001b[1;33m)\u001b[0m\u001b[1;33m\u001b[0m\u001b[1;33m\u001b[0m\u001b[0m\n",
      "\u001b[1;32mc:\\Users\\tomek\\AppData\\Local\\Programs\\Python\\Python39\\lib\\site-packages\\tensorflow\\python\\eager\\polymorphic_function\\polymorphic_function.py\u001b[0m in \u001b[0;36m_call\u001b[1;34m(self, *args, **kwds)\u001b[0m\n\u001b[0;32m    931\u001b[0m       \u001b[1;31m# In this case we have not created variables on the first call. So we can\u001b[0m\u001b[1;33m\u001b[0m\u001b[1;33m\u001b[0m\u001b[1;33m\u001b[0m\u001b[0m\n\u001b[0;32m    932\u001b[0m       \u001b[1;31m# run the first trace but we should fail if variables are created.\u001b[0m\u001b[1;33m\u001b[0m\u001b[1;33m\u001b[0m\u001b[1;33m\u001b[0m\u001b[0m\n\u001b[1;32m--> 933\u001b[1;33m       \u001b[0mresults\u001b[0m \u001b[1;33m=\u001b[0m \u001b[0mself\u001b[0m\u001b[1;33m.\u001b[0m\u001b[0m_variable_creation_fn\u001b[0m\u001b[1;33m(\u001b[0m\u001b[1;33m*\u001b[0m\u001b[0margs\u001b[0m\u001b[1;33m,\u001b[0m \u001b[1;33m**\u001b[0m\u001b[0mkwds\u001b[0m\u001b[1;33m)\u001b[0m\u001b[1;33m\u001b[0m\u001b[1;33m\u001b[0m\u001b[0m\n\u001b[0m\u001b[0;32m    934\u001b[0m       \u001b[1;32mif\u001b[0m \u001b[0mself\u001b[0m\u001b[1;33m.\u001b[0m\u001b[0m_created_variables\u001b[0m \u001b[1;32mand\u001b[0m \u001b[1;32mnot\u001b[0m \u001b[0mALLOW_DYNAMIC_VARIABLE_CREATION\u001b[0m\u001b[1;33m:\u001b[0m\u001b[1;33m\u001b[0m\u001b[1;33m\u001b[0m\u001b[0m\n\u001b[0;32m    935\u001b[0m         raise ValueError(\"Creating variables on a non-first call to a function\"\n",
      "\u001b[1;32mc:\\Users\\tomek\\AppData\\Local\\Programs\\Python\\Python39\\lib\\site-packages\\tensorflow\\python\\eager\\polymorphic_function\\tracing_compiler.py\u001b[0m in \u001b[0;36m__call__\u001b[1;34m(self, *args, **kwargs)\u001b[0m\n\u001b[0;32m    141\u001b[0m       (concrete_function,\n\u001b[0;32m    142\u001b[0m        filtered_flat_args) = self._maybe_define_function(args, kwargs)\n\u001b[1;32m--> 143\u001b[1;33m     return concrete_function._call_flat(\n\u001b[0m\u001b[0;32m    144\u001b[0m         filtered_flat_args, captured_inputs=concrete_function.captured_inputs)  # pylint: disable=protected-access\n\u001b[0;32m    145\u001b[0m \u001b[1;33m\u001b[0m\u001b[0m\n",
      "\u001b[1;32mc:\\Users\\tomek\\AppData\\Local\\Programs\\Python\\Python39\\lib\\site-packages\\tensorflow\\python\\eager\\polymorphic_function\\monomorphic_function.py\u001b[0m in \u001b[0;36m_call_flat\u001b[1;34m(self, args, captured_inputs, cancellation_manager)\u001b[0m\n\u001b[0;32m   1755\u001b[0m         and executing_eagerly):\n\u001b[0;32m   1756\u001b[0m       \u001b[1;31m# No tape is watching; skip to running the function.\u001b[0m\u001b[1;33m\u001b[0m\u001b[1;33m\u001b[0m\u001b[1;33m\u001b[0m\u001b[0m\n\u001b[1;32m-> 1757\u001b[1;33m       return self._build_call_outputs(self._inference_function.call(\n\u001b[0m\u001b[0;32m   1758\u001b[0m           ctx, args, cancellation_manager=cancellation_manager))\n\u001b[0;32m   1759\u001b[0m     forward_backward = self._select_forward_and_backward_functions(\n",
      "\u001b[1;32mc:\\Users\\tomek\\AppData\\Local\\Programs\\Python\\Python39\\lib\\site-packages\\tensorflow\\python\\eager\\polymorphic_function\\monomorphic_function.py\u001b[0m in \u001b[0;36mcall\u001b[1;34m(self, ctx, args, cancellation_manager)\u001b[0m\n\u001b[0;32m    379\u001b[0m       \u001b[1;32mwith\u001b[0m \u001b[0m_InterpolateFunctionError\u001b[0m\u001b[1;33m(\u001b[0m\u001b[0mself\u001b[0m\u001b[1;33m)\u001b[0m\u001b[1;33m:\u001b[0m\u001b[1;33m\u001b[0m\u001b[1;33m\u001b[0m\u001b[0m\n\u001b[0;32m    380\u001b[0m         \u001b[1;32mif\u001b[0m \u001b[0mcancellation_manager\u001b[0m \u001b[1;32mis\u001b[0m \u001b[1;32mNone\u001b[0m\u001b[1;33m:\u001b[0m\u001b[1;33m\u001b[0m\u001b[1;33m\u001b[0m\u001b[0m\n\u001b[1;32m--> 381\u001b[1;33m           outputs = execute.execute(\n\u001b[0m\u001b[0;32m    382\u001b[0m               \u001b[0mstr\u001b[0m\u001b[1;33m(\u001b[0m\u001b[0mself\u001b[0m\u001b[1;33m.\u001b[0m\u001b[0msignature\u001b[0m\u001b[1;33m.\u001b[0m\u001b[0mname\u001b[0m\u001b[1;33m)\u001b[0m\u001b[1;33m,\u001b[0m\u001b[1;33m\u001b[0m\u001b[1;33m\u001b[0m\u001b[0m\n\u001b[0;32m    383\u001b[0m               \u001b[0mnum_outputs\u001b[0m\u001b[1;33m=\u001b[0m\u001b[0mself\u001b[0m\u001b[1;33m.\u001b[0m\u001b[0m_num_outputs\u001b[0m\u001b[1;33m,\u001b[0m\u001b[1;33m\u001b[0m\u001b[1;33m\u001b[0m\u001b[0m\n",
      "\u001b[1;32mc:\\Users\\tomek\\AppData\\Local\\Programs\\Python\\Python39\\lib\\site-packages\\tensorflow\\python\\eager\\execute.py\u001b[0m in \u001b[0;36mquick_execute\u001b[1;34m(op_name, num_outputs, inputs, attrs, ctx, name)\u001b[0m\n\u001b[0;32m     50\u001b[0m   \u001b[1;32mtry\u001b[0m\u001b[1;33m:\u001b[0m\u001b[1;33m\u001b[0m\u001b[1;33m\u001b[0m\u001b[0m\n\u001b[0;32m     51\u001b[0m     \u001b[0mctx\u001b[0m\u001b[1;33m.\u001b[0m\u001b[0mensure_initialized\u001b[0m\u001b[1;33m(\u001b[0m\u001b[1;33m)\u001b[0m\u001b[1;33m\u001b[0m\u001b[1;33m\u001b[0m\u001b[0m\n\u001b[1;32m---> 52\u001b[1;33m     tensors = pywrap_tfe.TFE_Py_Execute(ctx._handle, device_name, op_name,\n\u001b[0m\u001b[0;32m     53\u001b[0m                                         inputs, attrs, num_outputs)\n\u001b[0;32m     54\u001b[0m   \u001b[1;32mexcept\u001b[0m \u001b[0mcore\u001b[0m\u001b[1;33m.\u001b[0m\u001b[0m_NotOkStatusException\u001b[0m \u001b[1;32mas\u001b[0m \u001b[0me\u001b[0m\u001b[1;33m:\u001b[0m\u001b[1;33m\u001b[0m\u001b[1;33m\u001b[0m\u001b[0m\n",
      "\u001b[1;31mKeyboardInterrupt\u001b[0m: "
     ]
    }
   ],
   "source": [
    "test_loss, test_accuracy = network.evaluate(x_test, y_test)\n",
    "print('test_loss:', test_loss)\n",
    "print('test_acc:', test_accuracy)"
   ]
  },
  {
   "cell_type": "code",
   "execution_count": 62,
   "metadata": {},
   "outputs": [],
   "source": [
    "class myCallback(tf.keras.callbacks.Callback):\n",
    "  def on_epoch_end(self, epoch, logs={}):\n",
    "    if(logs.get('accuracy')>0.9):\n",
    "      print(\"\\nReached 90% accuracy so cancelling training!\")\n",
    "      self.model.stop_training = True"
   ]
  },
  {
   "cell_type": "code",
   "execution_count": 63,
   "metadata": {},
   "outputs": [
    {
     "name": "stdout",
     "output_type": "stream",
     "text": [
      "Epoch 1/10\n",
      "772/782 [============================>.] - ETA: 0s - loss: 0.0390 - accuracy: 0.9863\n",
      "Reached 90% accuracy so cancelling training!\n",
      "782/782 [==============================] - 3s 3ms/step - loss: 0.0392 - accuracy: 0.9863\n"
     ]
    },
    {
     "data": {
      "text/plain": [
       "<keras.callbacks.History at 0x1e8718080a0>"
      ]
     },
     "execution_count": 63,
     "metadata": {},
     "output_type": "execute_result"
    }
   ],
   "source": [
    "callbacks = myCallback()\n",
    " \n",
    "network.fit(x_train, y_train, epochs=10, callbacks=[callbacks])"
   ]
  },
  {
   "cell_type": "code",
   "execution_count": 67,
   "metadata": {},
   "outputs": [
    {
     "name": "stderr",
     "output_type": "stream",
     "text": [
      "C:\\Users\\tomek\\AppData\\Local\\Temp/ipykernel_13744/3413615722.py:13: DeprecationWarning: KerasClassifier is deprecated, use Sci-Keras (https://github.com/adriangb/scikeras) instead. See https://www.adriangb.com/scikeras/stable/migration.html for help migrating.\n",
      "  model = KerasClassifier(build_fn=create_model)\n"
     ]
    },
    {
     "name": "stdout",
     "output_type": "stream",
     "text": [
      "Epoch 1/3\n",
      "521/521 [==============================] - 2s 3ms/step - loss: 0.3449 - accuracy: 0.8586\n",
      "Epoch 2/3\n",
      "521/521 [==============================] - 2s 4ms/step - loss: 0.2067 - accuracy: 0.9215\n",
      "Epoch 3/3\n",
      "521/521 [==============================] - 2s 4ms/step - loss: 0.1614 - accuracy: 0.9396\n",
      "261/261 [==============================] - 1s 2ms/step - loss: 0.3131 - accuracy: 0.8865\n",
      "Epoch 1/3\n",
      "521/521 [==============================] - 3s 4ms/step - loss: 0.3528 - accuracy: 0.8548\n",
      "Epoch 2/3\n",
      "521/521 [==============================] - 2s 4ms/step - loss: 0.2056 - accuracy: 0.9237\n",
      "Epoch 3/3\n",
      "521/521 [==============================] - 2s 3ms/step - loss: 0.1627 - accuracy: 0.9417\n",
      "261/261 [==============================] - 1s 2ms/step - loss: 0.3125 - accuracy: 0.8847\n",
      "Epoch 1/3\n",
      "521/521 [==============================] - 2s 4ms/step - loss: 0.3516 - accuracy: 0.8529\n",
      "Epoch 2/3\n",
      "521/521 [==============================] - 2s 4ms/step - loss: 0.2097 - accuracy: 0.9203\n",
      "Epoch 3/3\n",
      "521/521 [==============================] - 2s 4ms/step - loss: 0.1674 - accuracy: 0.9380\n",
      "261/261 [==============================] - 1s 2ms/step - loss: 0.3064 - accuracy: 0.8874\n",
      "Epoch 1/5\n",
      "521/521 [==============================] - 2s 4ms/step - loss: 0.3503 - accuracy: 0.8580\n",
      "Epoch 2/5\n",
      "521/521 [==============================] - 2s 3ms/step - loss: 0.2062 - accuracy: 0.9204\n",
      "Epoch 3/5\n",
      "521/521 [==============================] - 2s 4ms/step - loss: 0.1645 - accuracy: 0.9386\n",
      "Epoch 4/5\n",
      "521/521 [==============================] - 2s 3ms/step - loss: 0.1363 - accuracy: 0.9516\n",
      "Epoch 5/5\n",
      "521/521 [==============================] - 2s 3ms/step - loss: 0.1113 - accuracy: 0.9614\n",
      "261/261 [==============================] - 0s 1ms/step - loss: 0.3677 - accuracy: 0.8804\n",
      "Epoch 1/5\n",
      "521/521 [==============================] - 4s 4ms/step - loss: 0.3479 - accuracy: 0.8574\n",
      "Epoch 2/5\n",
      "521/521 [==============================] - 2s 4ms/step - loss: 0.2037 - accuracy: 0.9245\n",
      "Epoch 3/5\n",
      "521/521 [==============================] - 2s 4ms/step - loss: 0.1597 - accuracy: 0.9426\n",
      "Epoch 4/5\n",
      "521/521 [==============================] - 2s 4ms/step - loss: 0.1328 - accuracy: 0.9540\n",
      "Epoch 5/5\n",
      "521/521 [==============================] - 2s 3ms/step - loss: 0.1107 - accuracy: 0.9620\n",
      "261/261 [==============================] - 1s 2ms/step - loss: 0.3839 - accuracy: 0.8792\n",
      "Epoch 1/5\n",
      "521/521 [==============================] - 2s 3ms/step - loss: 0.3453 - accuracy: 0.8580\n",
      "Epoch 2/5\n",
      "521/521 [==============================] - 2s 4ms/step - loss: 0.2061 - accuracy: 0.9234\n",
      "Epoch 3/5\n",
      "521/521 [==============================] - 2s 3ms/step - loss: 0.1600 - accuracy: 0.9418\n",
      "Epoch 4/5\n",
      "521/521 [==============================] - 2s 4ms/step - loss: 0.1292 - accuracy: 0.9540\n",
      "Epoch 5/5\n",
      "521/521 [==============================] - 3s 6ms/step - loss: 0.1023 - accuracy: 0.9640\n",
      "261/261 [==============================] - 1s 2ms/step - loss: 0.4008 - accuracy: 0.8819\n",
      "Epoch 1/3\n",
      "261/261 [==============================] - 2s 4ms/step - loss: 0.3484 - accuracy: 0.8587\n",
      "Epoch 2/3\n",
      "261/261 [==============================] - 1s 4ms/step - loss: 0.1986 - accuracy: 0.9231\n",
      "Epoch 3/3\n",
      "261/261 [==============================] - 1s 3ms/step - loss: 0.1488 - accuracy: 0.9438\n",
      "131/131 [==============================] - 0s 2ms/step - loss: 0.3302 - accuracy: 0.8804\n",
      "Epoch 1/3\n",
      "261/261 [==============================] - 1s 4ms/step - loss: 0.3662 - accuracy: 0.8548\n",
      "Epoch 2/3\n",
      "261/261 [==============================] - 1s 4ms/step - loss: 0.2040 - accuracy: 0.9248\n",
      "Epoch 3/3\n",
      "261/261 [==============================] - 1s 4ms/step - loss: 0.1569 - accuracy: 0.9446\n",
      "131/131 [==============================] - 0s 2ms/step - loss: 0.3228 - accuracy: 0.8817\n",
      "Epoch 1/3\n",
      "261/261 [==============================] - 1s 3ms/step - loss: 0.3608 - accuracy: 0.8532\n",
      "Epoch 2/3\n",
      "261/261 [==============================] - 1s 4ms/step - loss: 0.2067 - accuracy: 0.9218\n",
      "Epoch 3/3\n",
      "261/261 [==============================] - 1s 4ms/step - loss: 0.1562 - accuracy: 0.9431\n",
      "131/131 [==============================] - 0s 2ms/step - loss: 0.3371 - accuracy: 0.8799\n",
      "Epoch 1/5\n",
      "261/261 [==============================] - 2s 4ms/step - loss: 0.3620 - accuracy: 0.8560\n",
      "Epoch 2/5\n",
      "261/261 [==============================] - 1s 4ms/step - loss: 0.2019 - accuracy: 0.9215\n",
      "Epoch 3/5\n",
      "261/261 [==============================] - 1s 4ms/step - loss: 0.1553 - accuracy: 0.9437\n",
      "Epoch 4/5\n",
      "261/261 [==============================] - 1s 4ms/step - loss: 0.1192 - accuracy: 0.9569\n",
      "Epoch 5/5\n",
      "261/261 [==============================] - 1s 4ms/step - loss: 0.0916 - accuracy: 0.9669\n",
      "131/131 [==============================] - 0s 2ms/step - loss: 0.3958 - accuracy: 0.8792\n",
      "Epoch 1/5\n",
      "261/261 [==============================] - 2s 3ms/step - loss: 0.3582 - accuracy: 0.8554\n",
      "Epoch 2/5\n",
      "261/261 [==============================] - 1s 3ms/step - loss: 0.1991 - accuracy: 0.9254\n",
      "Epoch 3/5\n",
      "261/261 [==============================] - 1s 4ms/step - loss: 0.1533 - accuracy: 0.9439\n",
      "Epoch 4/5\n",
      "261/261 [==============================] - 1s 3ms/step - loss: 0.1199 - accuracy: 0.9575\n",
      "Epoch 5/5\n",
      "261/261 [==============================] - 1s 4ms/step - loss: 0.0917 - accuracy: 0.9692\n",
      "131/131 [==============================] - 0s 2ms/step - loss: 0.4021 - accuracy: 0.8748\n",
      "Epoch 1/5\n",
      "261/261 [==============================] - 2s 4ms/step - loss: 0.3748 - accuracy: 0.8489\n",
      "Epoch 2/5\n",
      "261/261 [==============================] - 1s 4ms/step - loss: 0.2102 - accuracy: 0.9195\n",
      "Epoch 3/5\n",
      "261/261 [==============================] - 1s 4ms/step - loss: 0.1606 - accuracy: 0.9407\n",
      "Epoch 4/5\n",
      "261/261 [==============================] - 1s 3ms/step - loss: 0.1289 - accuracy: 0.9538\n",
      "Epoch 5/5\n",
      "261/261 [==============================] - 1s 4ms/step - loss: 0.1049 - accuracy: 0.9626\n",
      "131/131 [==============================] - 0s 2ms/step - loss: 0.3844 - accuracy: 0.8776\n",
      "Epoch 1/3\n",
      "782/782 [==============================] - 3s 3ms/step - loss: 0.3238 - accuracy: 0.8693\n",
      "Epoch 2/3\n",
      "782/782 [==============================] - 3s 3ms/step - loss: 0.2117 - accuracy: 0.9194\n",
      "Epoch 3/3\n",
      "782/782 [==============================] - 3s 3ms/step - loss: 0.1791 - accuracy: 0.9342\n",
      "Best: 0.886200 using {'batch_size': 32, 'epochs': 3}\n"
     ]
    }
   ],
   "source": [
    "def create_model():\n",
    "    network = models.Sequential()\n",
    "    network.add(layers.Dense(16, activation='relu', input_shape=(10000,)))\n",
    "    network.add(layers.Dense(16, activation='relu'))\n",
    "    network.add(layers.Dense(1, activation='sigmoid'))\n",
    " \n",
    "    network.compile(optimizer='rmsprop',\n",
    "                loss='binary_crossentropy',\n",
    "                metrics=['accuracy'])\n",
    " \n",
    "    return network\n",
    " \n",
    "model = KerasClassifier(build_fn=create_model)\n",
    " \n",
    "par1_batch = [32, 64]\n",
    "par2_epoch = [3, 5]\n",
    " \n",
    "param_grid = dict(batch_size=par1_batch,\n",
    "                  epochs=par2_epoch\n",
    "                  )\n",
    " \n",
    "grid = GridSearchCV(estimator=model,                     \n",
    "                    param_grid=param_grid,\n",
    "                    cv = 3\n",
    "                    )\n",
    " \n",
    "grid_results = grid.fit(x_train, y_train)\n",
    " \n",
    "print(\"Best: %f using %s\" % (grid_results.best_score_, grid_results.best_params_))"
   ]
  },
  {
   "cell_type": "code",
   "execution_count": 68,
   "metadata": {},
   "outputs": [],
   "source": [
    "import keras_tuner"
   ]
  },
  {
   "cell_type": "code",
   "execution_count": 73,
   "metadata": {},
   "outputs": [],
   "source": [
    "def build_model(hp):\n",
    "    network = models.Sequential()\n",
    "    network.add(layers.Dense(units=hp.Int('units', min_value=16, max_value=256, step=16), activation='relu', input_shape=(10000,)))\n",
    "    network.add(layers.Dense(units=hp.Int('units', min_value=16, max_value=256, step=16), activation='relu'))\n",
    "    network.add(layers.Dense(1, activation='sigmoid'))\n",
    " \n",
    "    network.compile(optimizer='rmsprop',\n",
    "                loss='binary_crossentropy',\n",
    "                metrics=['accuracy'])\n",
    " \n",
    "    return network"
   ]
  },
  {
   "cell_type": "code",
   "execution_count": 74,
   "metadata": {},
   "outputs": [
    {
     "name": "stdout",
     "output_type": "stream",
     "text": [
      "Reloading Tuner from .\\untitled_project\\tuner0.json\n",
      "WARNING:tensorflow:Detecting that an object or model or tf.train.Checkpoint is being deleted with unrestored values. See the following logs for the specific values in question. To silence these warnings, use `status.expect_partial()`. See https://www.tensorflow.org/api_docs/python/tf/train/Checkpoint#restorefor details about the status object returned by the restore function.\n",
      "WARNING:tensorflow:Value in checkpoint could not be found in the restored object: (root).optimizer._variables.1\n",
      "WARNING:tensorflow:Value in checkpoint could not be found in the restored object: (root).optimizer._variables.2\n",
      "WARNING:tensorflow:Value in checkpoint could not be found in the restored object: (root).optimizer._variables.3\n",
      "WARNING:tensorflow:Value in checkpoint could not be found in the restored object: (root).optimizer._variables.4\n",
      "WARNING:tensorflow:Value in checkpoint could not be found in the restored object: (root).optimizer._variables.5\n",
      "WARNING:tensorflow:Value in checkpoint could not be found in the restored object: (root).optimizer._variables.6\n"
     ]
    }
   ],
   "source": [
    "tuner = keras_tuner.RandomSearch(\n",
    "    build_model,\n",
    "    objective='val_loss',\n",
    "    max_trials=5)\n",
    " \n",
    "tuner.search(x_train, y_train, epochs=5, batch_size=128, validation_data=(x_validation, y_validation))\n",
    "best_model = tuner.get_best_models()[0]\n"
   ]
  }
 ],
 "metadata": {
  "kernelspec": {
   "display_name": "Python 3 (ipykernel)",
   "language": "python",
   "name": "python3"
  },
  "language_info": {
   "codemirror_mode": {
    "name": "ipython",
    "version": 3
   },
   "file_extension": ".py",
   "mimetype": "text/x-python",
   "name": "python",
   "nbconvert_exporter": "python",
   "pygments_lexer": "ipython3",
   "version": "3.9.4"
  }
 },
 "nbformat": 4,
 "nbformat_minor": 2
}
