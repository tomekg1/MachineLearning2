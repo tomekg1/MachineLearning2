{
 "cells": [
  {
   "cell_type": "code",
   "execution_count": 1,
   "metadata": {},
   "outputs": [],
   "source": [
    "from tensorflow import keras\n",
    "import numpy as np\n",
    "import keras\n",
    "import matplotlib.pyplot as plt\n",
    "from keras import models\n",
    "from keras import layers\n",
    "from keras.utils import to_categorical"
   ]
  },
  {
   "cell_type": "code",
   "execution_count": 2,
   "metadata": {},
   "outputs": [
    {
     "name": "stdout",
     "output_type": "stream",
     "text": [
      "Model: \"sequential\"\n",
      "_________________________________________________________________\n",
      " Layer (type)                Output Shape              Param #   \n",
      "=================================================================\n",
      " rescaling (Rescaling)       (None, 150, 150, 3)       0         \n",
      "                                                                 \n",
      " conv2d (Conv2D)             (None, 148, 148, 32)      896       \n",
      "                                                                 \n",
      " max_pooling2d (MaxPooling2D  (None, 74, 74, 32)       0         \n",
      " )                                                               \n",
      "                                                                 \n",
      " conv2d_1 (Conv2D)           (None, 72, 72, 64)        18496     \n",
      "                                                                 \n",
      " max_pooling2d_1 (MaxPooling  (None, 36, 36, 64)       0         \n",
      " 2D)                                                             \n",
      "                                                                 \n",
      " conv2d_2 (Conv2D)           (None, 34, 34, 128)       73856     \n",
      "                                                                 \n",
      " max_pooling2d_2 (MaxPooling  (None, 17, 17, 128)      0         \n",
      " 2D)                                                             \n",
      "                                                                 \n",
      " conv2d_3 (Conv2D)           (None, 15, 15, 128)       147584    \n",
      "                                                                 \n",
      " max_pooling2d_3 (MaxPooling  (None, 7, 7, 128)        0         \n",
      " 2D)                                                             \n",
      "                                                                 \n",
      " flatten (Flatten)           (None, 6272)              0         \n",
      "                                                                 \n",
      " dense (Dense)               (None, 512)               3211776   \n",
      "                                                                 \n",
      " dense_1 (Dense)             (None, 1)                 513       \n",
      "                                                                 \n",
      "=================================================================\n",
      "Total params: 3,453,121\n",
      "Trainable params: 3,453,121\n",
      "Non-trainable params: 0\n",
      "_________________________________________________________________\n"
     ]
    }
   ],
   "source": [
    "network = models.Sequential()\n",
    "network.add(layers.Rescaling(1./255, input_shape=(150, 150, 3)))\n",
    "network.add(layers.Conv2D(32, (3, 3), activation='relu'))\n",
    "network.add(layers.MaxPooling2D((2, 2)))\n",
    "network.add(layers.Conv2D(64, (3, 3), activation='relu'))\n",
    "network.add(layers.MaxPooling2D((2, 2)))\n",
    "network.add(layers.Conv2D(128, (3, 3), activation='relu'))\n",
    "network.add(layers.MaxPooling2D((2, 2)))\n",
    "network.add(layers.Conv2D(128, (3, 3), activation='relu'))\n",
    "network.add(layers.MaxPooling2D((2, 2)))\n",
    "network.add(layers.Flatten())\n",
    "network.add(layers.Dense(512, activation='relu'))\n",
    "network.add(layers.Dense(1, activation='sigmoid'))\n",
    "network.summary()"
   ]
  },
  {
   "cell_type": "code",
   "execution_count": 3,
   "metadata": {},
   "outputs": [],
   "source": [
    "network.compile(optimizer=keras.optimizers.RMSprop(learning_rate=1e-4),\n",
    "                loss='binary_crossentropy',\n",
    "                metrics=['accuracy'])"
   ]
  },
  {
   "cell_type": "code",
   "execution_count": 4,
   "metadata": {},
   "outputs": [
    {
     "name": "stdout",
     "output_type": "stream",
     "text": [
      "Found 2000 files belonging to 2 classes.\n"
     ]
    }
   ],
   "source": [
    "from tensorflow.keras.preprocessing import  image_dataset_from_directory\n",
    " \n",
    "train_dataset = image_dataset_from_directory(\n",
    "    'C:\\\\Users\\\\tomek\\\\Documents\\\\MachineLearning\\\\lab3_ConvNetOne\\\\dataset_cats_dogs\\\\train',  # This is the target directory\n",
    "    labels=\"inferred\", \n",
    "    label_mode=\"binary\", # Since we use binary_crossentropy loss, we need binary labels\n",
    "    class_names=None,\n",
    "    color_mode=\"rgb\",\n",
    "    batch_size=20,\n",
    "    image_size=(150,150), # All images have different sizes and will be resized to 150x150\n",
    "    shuffle=True,\n",
    ")"
   ]
  },
  {
   "cell_type": "code",
   "execution_count": 5,
   "metadata": {},
   "outputs": [
    {
     "name": "stdout",
     "output_type": "stream",
     "text": [
      "Found 1000 files belonging to 2 classes.\n"
     ]
    }
   ],
   "source": [
    "test_dataset = image_dataset_from_directory(\n",
    "    'C:\\\\Users\\\\tomek\\\\Documents\\\\MachineLearning\\\\lab3_ConvNetOne\\\\dataset_cats_dogs\\\\test',  # This is the target directory\n",
    "    labels=\"inferred\", \n",
    "    label_mode=\"binary\", # Since we use binary_crossentropy loss, we need binary labels\n",
    "    class_names=None,\n",
    "    color_mode=\"rgb\",\n",
    "    batch_size=20,\n",
    "    image_size=(150,150), # All images have different sizes and will be resized to 150x150\n",
    "    shuffle=True,\n",
    ")"
   ]
  },
  {
   "cell_type": "code",
   "execution_count": 6,
   "metadata": {},
   "outputs": [
    {
     "name": "stdout",
     "output_type": "stream",
     "text": [
      "Found 1000 files belonging to 2 classes.\n"
     ]
    }
   ],
   "source": [
    "validation_dataset = image_dataset_from_directory(\n",
    "    'C:\\\\Users\\\\tomek\\\\Documents\\\\MachineLearning\\\\lab3_ConvNetOne\\\\dataset_cats_dogs\\\\validation',  # This is the target directory\n",
    "    labels=\"inferred\", \n",
    "    label_mode=\"binary\", # Since we use binary_crossentropy loss, we need binary labels\n",
    "    class_names=None,\n",
    "    color_mode=\"rgb\",\n",
    "    batch_size=20,\n",
    "    image_size=(150,150), # All images have different sizes and will be resized to 150x150\n",
    "    shuffle=True,\n",
    ")"
   ]
  },
  {
   "cell_type": "code",
   "execution_count": 7,
   "metadata": {},
   "outputs": [
    {
     "name": "stdout",
     "output_type": "stream",
     "text": [
      "Epoch 1/30\n",
      "100/100 [==============================] - 54s 529ms/step - loss: 0.6913 - accuracy: 0.5360 - val_loss: 0.6930 - val_accuracy: 0.5080\n",
      "Epoch 2/30\n",
      "100/100 [==============================] - 50s 494ms/step - loss: 0.6567 - accuracy: 0.6280 - val_loss: 0.6819 - val_accuracy: 0.5520\n",
      "Epoch 3/30\n",
      "100/100 [==============================] - 47s 470ms/step - loss: 0.6123 - accuracy: 0.6650 - val_loss: 0.6324 - val_accuracy: 0.6360\n",
      "Epoch 4/30\n",
      "100/100 [==============================] - 46s 461ms/step - loss: 0.5743 - accuracy: 0.7010 - val_loss: 0.7039 - val_accuracy: 0.5990\n",
      "Epoch 5/30\n",
      "100/100 [==============================] - 47s 465ms/step - loss: 0.5348 - accuracy: 0.7270 - val_loss: 0.6268 - val_accuracy: 0.6570\n",
      "Epoch 6/30\n",
      "100/100 [==============================] - 49s 492ms/step - loss: 0.5122 - accuracy: 0.7435 - val_loss: 0.5835 - val_accuracy: 0.6950\n",
      "Epoch 7/30\n",
      "100/100 [==============================] - 51s 510ms/step - loss: 0.4928 - accuracy: 0.7565 - val_loss: 0.6296 - val_accuracy: 0.6720\n",
      "Epoch 8/30\n",
      "100/100 [==============================] - 50s 495ms/step - loss: 0.4671 - accuracy: 0.7815 - val_loss: 0.5650 - val_accuracy: 0.7100\n",
      "Epoch 9/30\n",
      "100/100 [==============================] - 45s 453ms/step - loss: 0.4424 - accuracy: 0.8020 - val_loss: 0.5817 - val_accuracy: 0.7040\n",
      "Epoch 10/30\n",
      "100/100 [==============================] - 47s 473ms/step - loss: 0.4173 - accuracy: 0.8055 - val_loss: 0.5850 - val_accuracy: 0.7100\n",
      "Epoch 11/30\n",
      "100/100 [==============================] - 47s 465ms/step - loss: 0.3918 - accuracy: 0.8260 - val_loss: 0.5764 - val_accuracy: 0.7230\n",
      "Epoch 12/30\n",
      "100/100 [==============================] - 47s 472ms/step - loss: 0.3691 - accuracy: 0.8325 - val_loss: 0.5701 - val_accuracy: 0.7210\n",
      "Epoch 13/30\n",
      "100/100 [==============================] - 46s 464ms/step - loss: 0.3475 - accuracy: 0.8465 - val_loss: 0.6024 - val_accuracy: 0.7090\n",
      "Epoch 14/30\n",
      "100/100 [==============================] - 47s 471ms/step - loss: 0.3229 - accuracy: 0.8670 - val_loss: 0.6024 - val_accuracy: 0.7190\n",
      "Epoch 15/30\n",
      "100/100 [==============================] - 47s 469ms/step - loss: 0.2994 - accuracy: 0.8790 - val_loss: 0.6002 - val_accuracy: 0.7350\n",
      "Epoch 16/30\n",
      "100/100 [==============================] - 47s 465ms/step - loss: 0.2810 - accuracy: 0.8860 - val_loss: 0.6057 - val_accuracy: 0.7300\n",
      "Epoch 17/30\n",
      "100/100 [==============================] - 47s 466ms/step - loss: 0.2545 - accuracy: 0.9025 - val_loss: 0.6211 - val_accuracy: 0.7460\n",
      "Epoch 18/30\n",
      "100/100 [==============================] - 47s 468ms/step - loss: 0.2333 - accuracy: 0.9150 - val_loss: 0.6989 - val_accuracy: 0.7120\n",
      "Epoch 19/30\n",
      "100/100 [==============================] - 47s 466ms/step - loss: 0.2132 - accuracy: 0.9180 - val_loss: 0.6811 - val_accuracy: 0.7100\n",
      "Epoch 20/30\n",
      "100/100 [==============================] - 48s 475ms/step - loss: 0.1940 - accuracy: 0.9345 - val_loss: 0.6510 - val_accuracy: 0.7310\n",
      "Epoch 21/30\n",
      "100/100 [==============================] - 46s 463ms/step - loss: 0.1728 - accuracy: 0.9470 - val_loss: 0.7025 - val_accuracy: 0.7280\n",
      "Epoch 22/30\n",
      "100/100 [==============================] - 49s 492ms/step - loss: 0.1550 - accuracy: 0.9430 - val_loss: 0.7146 - val_accuracy: 0.7310\n",
      "Epoch 23/30\n",
      "100/100 [==============================] - 47s 474ms/step - loss: 0.1370 - accuracy: 0.9555 - val_loss: 0.7395 - val_accuracy: 0.7320\n",
      "Epoch 24/30\n",
      "100/100 [==============================] - 47s 471ms/step - loss: 0.1161 - accuracy: 0.9635 - val_loss: 0.7890 - val_accuracy: 0.7360\n",
      "Epoch 25/30\n",
      "100/100 [==============================] - 47s 474ms/step - loss: 0.1026 - accuracy: 0.9695 - val_loss: 0.8279 - val_accuracy: 0.7380\n",
      "Epoch 26/30\n",
      "100/100 [==============================] - 47s 472ms/step - loss: 0.0981 - accuracy: 0.9720 - val_loss: 0.8351 - val_accuracy: 0.7400\n",
      "Epoch 27/30\n",
      "100/100 [==============================] - 47s 472ms/step - loss: 0.0756 - accuracy: 0.9785 - val_loss: 0.9190 - val_accuracy: 0.7350\n",
      "Epoch 28/30\n",
      "100/100 [==============================] - 47s 466ms/step - loss: 0.0681 - accuracy: 0.9820 - val_loss: 0.8957 - val_accuracy: 0.7420\n",
      "Epoch 29/30\n",
      "100/100 [==============================] - 48s 476ms/step - loss: 0.0539 - accuracy: 0.9830 - val_loss: 0.9434 - val_accuracy: 0.7450\n",
      "Epoch 30/30\n",
      "100/100 [==============================] - 57s 567ms/step - loss: 0.0493 - accuracy: 0.9875 - val_loss: 1.1616 - val_accuracy: 0.7100\n"
     ]
    }
   ],
   "source": [
    "history = network.fit(train_dataset, epochs=30, validation_data=validation_dataset)"
   ]
  },
  {
   "cell_type": "code",
   "execution_count": 8,
   "metadata": {},
   "outputs": [
    {
     "data": {
      "image/png": "[encoded data removed]",
      "text/plain": [
       "<Figure size 1152x432 with 2 Axes>"
      ]
     },
     "metadata": {
      "needs_background": "light"
     },
     "output_type": "display_data"
    }
   ],
   "source": [
    "history_dict = history.history\n",
    "history_dict.keys()\n",
    "\n",
    "epochs = range(1, len(history_dict['accuracy']) + 1)\n",
    "plt.figure(figsize=(16, 6))\n",
    "plt.subplot(1, 2, 1)\n",
    "plt.plot(epochs, history_dict['accuracy'], label=\"Training accuracy\")\n",
    "plt.plot(epochs, history_dict['val_accuracy'], 'bo', label=\"Validation accuracy\")\n",
    "plt.title(\"Accuracy\")\n",
    "plt.xlabel('Epochs')\n",
    "plt.ylabel('Accuracy')\n",
    "plt.legend()\n",
    "\n",
    "\n",
    "plt.subplot(1, 2, 2)\n",
    "plt.plot(epochs, history_dict['loss'], label=\"Training loss\")\n",
    "plt.plot(epochs, history_dict['val_loss'], 'bo', label=\"Validation loss\")\n",
    "plt.title(\"Loss\")\n",
    "plt.xlabel('Epochs')\n",
    "plt.ylabel('Loss')\n",
    "plt.legend()\n",
    "\n",
    "\n",
    "plt.show()"
   ]
  }
 ],
 "metadata": {
  "kernelspec": {
   "display_name": "Python 3 (ipykernel)",
   "language": "python",
   "name": "python3"
  },
  "language_info": {
   "codemirror_mode": {
    "name": "ipython",
    "version": 3
   },
   "file_extension": ".py",
   "mimetype": "text/x-python",
   "name": "python",
   "nbconvert_exporter": "python",
   "pygments_lexer": "ipython3",
   "version": "3.9.4"
  }
 },
 "nbformat": 4,
 "nbformat_minor": 2
}
